{
 "cells": [
  {
   "cell_type": "markdown",
   "metadata": {},
   "source": [
    "# INFO 2950 Final Project: Predicting High School Students' Alcohol Consumption <a name = \"top\"></a>\n",
    "*Sarah Langleben (sml343), Victor Bisbal (vab59), and Kendra Obika (kao78). Fall 2021.*"
   ]
  },
  {
   "cell_type": "markdown",
   "metadata": {},
   "source": [
    "## Table of Contents:\n",
    "1. [Introduction](#introduction)\n",
    "    - [Background Information and Context](#background)\n",
    "    - [Key Terms and Data Sources](#key)\n",
    "    - [Research Questions](#researchquestions)\n",
    "    - [Summary of Findings](#overview)\n",
    "2. [Data Cleaning Appendix](#cleaning)\n",
    "    - [Step 1: imports](#step1)\n",
    "    - [Step 2: pd.read_csv()](#step2)\n",
    "    - [Step 3: data.head()](#step3)\n",
    "    - [Step 4: ](#step4)\n",
    "    - [Step 5: drop NaN](#step5)\n",
    "    - [Step 6](#step6)\n",
    "    - [Step 7: rename columns](#step7)\n",
    "    - [Step 8: 'MeanScore', 'MeanAlc', 'SumAlc'](#step8)\n",
    "    - [Step 9](#step9)\n",
    "    - [Step 10](#step10)\n",
    "3. [Q1: Is there a relationship between lower test scores/more failures and higher alcohol consumption?](#Q1)\n",
    "    - [Linear Regression](#linRegQ1)\n",
    "    - [Permutations](#permute)\n",
    "4. [Q2: Can parental status have an impact on their high school aged child's consumption?](#Q2)\n",
    "    - [Q2.1: Would a high schooler with parents who both work in healthcare drink less?](#Q2.1)\n",
    "    - [T-test](#ttest)\n",
    "5. [Q3: Do students with a greater number of absences have a higher alcohol consumption?](#Q3)\n",
    "    - [Predicting with linear regression](#absencesLinReg)\n",
    "6. [Data Description](#description)\n",
    "    - [3.1](#3.1)\n",
    "    - [3.2](#3.2)\n",
    "    - [3.3](#3.3)\n",
    "    - [3.4](#3.4)\n",
    "    - [3.5](#3.5)\n",
    "7. [Limitations](#limitations)\n",
    "8. [Questions for Reviewers](#questions)\n",
    "9. [Conclusion](#conclusion)\n",
    "9. [References](#references)"
   ]
  },
  {
   "cell_type": "markdown",
   "metadata": {},
   "source": [
    "## Introduction <a name=\"introduction\"></a>\n",
    "_______\n",
    "### Background Information and Context  <a name= \"background\"></a>\n",
    "\n",
    "The dataset we are using was originally created to predict secondary school performance in the academic paper Using Data Mining to Predict Secondary School Student Performance. The dataset contains information on 649 Portuguese secondary school students, which was collected through surveys and questionnaires in the 2005-2006 school year. \n",
    "\n",
    "Alcohol is the most used psychoactive among adolescents. According to the CDC, in the <a href = https://www.cdc.gov/healthyyouth/data/yrbs/index.htm>2019 Youth Risk Behavior Survey</a> 29% of surveyed high school students drank alcohol, and 14% binge drank. Alcohol abuse is the third leading cause of ill health and premature death (WHO), making it a major public health issue that both public health officials and local community members must work to address through increased awareness and education surrounding alcohol consumption. \n",
    "\n",
    "In Portugal, the minimum age limit for sales of alcohol is 16. The national maximum BAC levels (g/litre) is 0.05, and the adult per capital alcohol consumption is 13.43 litres, with national surveys reporting 12.20% of male respondents partaking in heavy episodic drinking, and 2.7% of female respondents partaking in heavy episodic drinking. (WHO) \n",
    "\n",
    "The goal of this project is to understand what traits make a student more or less likely to drink, and if there is a correlation between specific conditions, how might we predict student's drinking habits? Can we prove a relationship between seemingly unrelated student traits and alcohol consumption? The results of this analysis are intended to be a resource to the readers to enable them to better understand student alcohol consumption habits and what traits make a student more likely to drink at an early age. \n",
    "\n",
    "### Key Terms and Data Sources <a name= \"key\"></a>\n",
    "Our dataset is sourced from the UCI Machine Learning Repository: <a href = https://archive.ics.uci.edu/ml/datasets/student+performance>Student Performance Data Set</a>\n",
    "\n",
    "key terms:\n",
    "- <u>binge drinking</u> - Binge drinking is defined as a pattern of drinking that brings a person's blood alcohol concentration (BAC) to 0.08 g/dl or above. (CDC)\n",
    "- <u> substance abuse</u> - Excessive use of psychoactive drugs, such as alcohol, pain medications, or illegal drugs. (Mayo Clinic)\n",
    "- <u> design matrix</u> -  a matrix of values of explanatory variables of a set of objects. Each row represents an individual object, with the successive columns corresponding to the variables and their specific values for that object.\n",
    "- <u> linear regression</u> - a linear approach for modelling the relationship between a scalar response and one or more explanatory variables.\n",
    "- <u> dummy variables</u> - a variable that takes only the value 0 or 1 to indicate the absence or presence of some categorical effect that may be expected to shift the outcome. \n",
    "- <u> bootstrapping</u> - a method of inferring results for a population from results found on a collection of smaller random samples of that population, using replacement during the sampling process.\n",
    "\n",
    "Attributes used in our analysis:\n",
    "- <u>school</u> - student's school (binary: 'GP' - Gabriel Pereira or 'MS' - Mousinho da Silveira)\n",
    "- <u>sex</u> - student's sex (binary: 'F' - female or 'M' - male)\n",
    "- <u>age</u> - student's age (numeric: from 15 to 22)\n",
    "- <u>address</u> - student's home address type (binary: 'U' - urban or 'R' - rural)\n",
    "- <u>famsize</u> - family size (binary: 'LE3' - less or equal to 3 or 'GT3' - greater than 3)\n",
    "- <u>Pstatus</u> - parent's cohabitation status (binary: 'T' - living together or 'A' - apart)\n",
    "- <u>MotherEdu</u> - mother's education (numeric: 0 - none, 1 - primary education (4th grade), 2 - 5th to 9th grade, 3 - secondary education or 4 - higher education)\n",
    "- <u>FatherEdu</u> - father's education (numeric: 0 - none, 1 - primary education (4th grade), 2 - 5th to 9th grade, 3 - secondary education or 4 - higher education)\n",
    "- <u>MotherJob</u> - mother's job (nominal: 'teacher', 'health' care related, civil 'services' (e.g. administrative or police), 'at_home' or 'other')\n",
    "- <u>FatherJob</u> - father's job (nominal: 'teacher', 'health' care related, civil 'services' (e.g. administrative or police), 'at_home' or 'other')\n",
    "- <u>reason</u> - reason to choose this school (nominal: close to 'home', school 'reputation', 'course' preference or 'other')\n",
    "- <u>guardian</u> - student's guardian (nominal: 'mother', 'father' or 'other')\n",
    "- <u>traveltime</u> - home to school travel time (numeric: 1 - <15 min., 2 - 15 to 30 min., 3 - 30 min. to 1 hour, or 4 - >1 hour)\n",
    "- <u>studytime</u> - weekly study time (numeric: 1 - <2 hours, 2 - 2 to 5 hours, 3 - 5 to 10 hours, or 4 - >10 hours)\n",
    "- <u>failures</u> - number of past class failures (numeric: n if 1<=n<3, else 4)\n",
    "- <u>famsup</u> - family educational support (binary: yes or no)\n",
    "- <u>paid</u> - extra paid classes within the course subject (Math or Portuguese) (binary: yes or no)\n",
    "- <u>activities</u> - extra-curricular activities (binary: yes or no)\n",
    "- <u>nursery</u> - attended nursery school (binary: yes or no)\n",
    "- <u>HigherEd</u> - wants to take higher education (binary: yes or no)\n",
    "- <u>internet</u> - Internet access at home (binary: yes or no)\n",
    "- <u>romantic</u> - with a romantic relationship (binary: yes or no)\n",
    "- <u>famrel</u> - quality of family relationships (numeric: from 1 - very bad to 5 - excellent)\n",
    "- <u>freetime</u> - free time after school (numeric: from 1 - very low to 5 - very high)\n",
    "- <u>goOut</u> - going out with friends (numeric: from 1 - very low to 5 - very high)\n",
    "- <u>M-F Alc</u> - workday alcohol consumption (numeric: from 1 - very low to 5 - very high)\n",
    "- <u>S-S Alc</u> - weekend alcohol consumption (numeric: from 1 - very low to 5 - very high)\n",
    "- <u>health</u> - current health status (numeric: from 1 - very bad to 5 - very good)\n",
    "- <u>absences</u> - number of school absences (numeric: from 0 to 93)\n",
    "- <u>Score1</u> - first period grade (numeric: from 0 to 20)\n",
    "- <u>Score2</u> - second period grade (numeric: from 0 to 20)\n",
    "- <u>Score3</u> - final grade (numeric: from 0 to 20, output target)\n",
    "- <u>MeanScore</u> - average of the first, second, and final grades\n",
    "- <u>MeanAlc</u> - average alcohol consumption (average of M-F Alc and S-S Alc)\n",
    "- <u>SumAlc</u> - sum of alcohol consumption column\n",
    "_____\n",
    "### Research Questions <a name = \"researchquestions\"></a>\n",
    "Main question: __Is there a relationship between specific student traits and alcohol consumption?__\n",
    "To answer this question, we use the following research questions (in order of appearance in this .ipynb file):\n",
    "1. Is there a relationship between lower test scores/more failures and higher alcohol consumption? \n",
    "2. Can parental status have an impact on their high school aged child's alcohol consumption?\n",
    "    - Would a high schooler with parents who work in healthcare drink less?\n",
    "3. Do students with a greater number of absences drink more alcohol?\n",
    "\n",
    "### General Overview <a name = \"overview\"></a>\n",
    "1. We cleaned the data, removing any null values and renaming any misleading column names to make our data easier to understand and use. We also added a couple columns to give us averages that will be useful later in our analysis. \n",
    "\n",
    "2. (Q1) We assess the correlation between average alcohol consumption for an individual student and failures to see if alcohol consumption has any measurable impact on student performance. Seeing how these two values influence eachother will be useful to understand how performance in school (specifically failing a class) can be an indicator of a student's alcohol consumption. \n",
    "\n",
    "3. (Q1) We found the correlation between average grades and average alcohol consumption. This will also help us see if there is any connection between alcohol consumption and academic performance that we can use to predict how much the students are drinking. \n",
    "\n",
    "4. (Q1) We used multiple linear regression to predict average alcohol consumption with average grades and failures. \n",
    "\n",
    "5. (Q1) We shuffled the data using permutations to see how our regression predicts when x and y values have been disassociated. \n",
    "\n",
    "6. (Q2) We turned categorical variables (Pstatus, famrel, Mjob, Fjob) into dummy variables using pd.get_dummies(), to enable us to use linear regression to predict consumption based on those variables. \n",
    "\n",
    "7. (Q2) We assessed how parent occupations influence alcohol consumption, specifically, would having a parent in the healthcare sector make a difference in consumption levels?\n",
    "\n",
    "8. (Q2) We performed a t-test to assess if there is a significant difference between the mean alcohol consumption of students with healthcare sector parents and non-healthcare sector students is any different.\n",
    "\n",
    "9. (Q3) We shifted focus to absences, comparing alcohol students of students with less than three absences to students with more than 10 absences, using the bootstrap method and a t-test to assess differences. \n",
    "\n",
    "10. (Q3) we used linear regression to predict alcohol consumption based on absences. "
   ]
  },
  {
   "cell_type": "markdown",
   "metadata": {},
   "source": [
    "## Data Cleaning <a name=\"cleaning\"></a>"
   ]
  },
  {
   "cell_type": "code",
   "execution_count": 1,
   "metadata": {},
   "outputs": [],
   "source": [
    "#load libraries\n",
    "import pandas as pd\n",
    "import matplotlib.pyplot as plt\n",
    "import seaborn as sns\n",
    "import numpy as np\n",
    "from scipy import stats #for statisical tests\n",
    "from sklearn.linear_model import LinearRegression,LogisticRegression\n",
    "from sklearn.model_selection import train_test_split, cross_val_score"
   ]
  },
  {
   "cell_type": "markdown",
   "metadata": {},
   "source": [
    "**Data Cleaning Step 1**: Imported all necessary libraries that will be used throughout our data analysis. <a name=\"step1\"></a>"
   ]
  },
  {
   "cell_type": "code",
   "execution_count": 2,
   "metadata": {},
   "outputs": [],
   "source": [
    "data = pd.read_csv('student-por.csv')"
   ]
  },
  {
   "cell_type": "markdown",
   "metadata": {},
   "source": [
    "**Data Cleaning Step 2**: Called pd.read_csv() to read both comma-separated values (csv) files into DataFrames. <a name=\"step2\"></a>"
   ]
  },
  {
   "cell_type": "code",
   "execution_count": 3,
   "metadata": {},
   "outputs": [
    {
     "data": {
      "text/html": [
       "<div>\n",
       "<style scoped>\n",
       "    .dataframe tbody tr th:only-of-type {\n",
       "        vertical-align: middle;\n",
       "    }\n",
       "\n",
       "    .dataframe tbody tr th {\n",
       "        vertical-align: top;\n",
       "    }\n",
       "\n",
       "    .dataframe thead th {\n",
       "        text-align: right;\n",
       "    }\n",
       "</style>\n",
       "<table border=\"1\" class=\"dataframe\">\n",
       "  <thead>\n",
       "    <tr style=\"text-align: right;\">\n",
       "      <th></th>\n",
       "      <th>school</th>\n",
       "      <th>sex</th>\n",
       "      <th>age</th>\n",
       "      <th>address</th>\n",
       "      <th>famsize</th>\n",
       "      <th>Pstatus</th>\n",
       "      <th>Medu</th>\n",
       "      <th>Fedu</th>\n",
       "      <th>Mjob</th>\n",
       "      <th>Fjob</th>\n",
       "      <th>...</th>\n",
       "      <th>famrel</th>\n",
       "      <th>freetime</th>\n",
       "      <th>goout</th>\n",
       "      <th>Dalc</th>\n",
       "      <th>Walc</th>\n",
       "      <th>health</th>\n",
       "      <th>absences</th>\n",
       "      <th>G1</th>\n",
       "      <th>G2</th>\n",
       "      <th>G3</th>\n",
       "    </tr>\n",
       "  </thead>\n",
       "  <tbody>\n",
       "    <tr>\n",
       "      <th>0</th>\n",
       "      <td>GP</td>\n",
       "      <td>F</td>\n",
       "      <td>18</td>\n",
       "      <td>U</td>\n",
       "      <td>GT3</td>\n",
       "      <td>A</td>\n",
       "      <td>4</td>\n",
       "      <td>4</td>\n",
       "      <td>at_home</td>\n",
       "      <td>teacher</td>\n",
       "      <td>...</td>\n",
       "      <td>4</td>\n",
       "      <td>3</td>\n",
       "      <td>4</td>\n",
       "      <td>1</td>\n",
       "      <td>1</td>\n",
       "      <td>3</td>\n",
       "      <td>4</td>\n",
       "      <td>0</td>\n",
       "      <td>11</td>\n",
       "      <td>11</td>\n",
       "    </tr>\n",
       "    <tr>\n",
       "      <th>1</th>\n",
       "      <td>GP</td>\n",
       "      <td>F</td>\n",
       "      <td>17</td>\n",
       "      <td>U</td>\n",
       "      <td>GT3</td>\n",
       "      <td>T</td>\n",
       "      <td>1</td>\n",
       "      <td>1</td>\n",
       "      <td>at_home</td>\n",
       "      <td>other</td>\n",
       "      <td>...</td>\n",
       "      <td>5</td>\n",
       "      <td>3</td>\n",
       "      <td>3</td>\n",
       "      <td>1</td>\n",
       "      <td>1</td>\n",
       "      <td>3</td>\n",
       "      <td>2</td>\n",
       "      <td>9</td>\n",
       "      <td>11</td>\n",
       "      <td>11</td>\n",
       "    </tr>\n",
       "    <tr>\n",
       "      <th>2</th>\n",
       "      <td>GP</td>\n",
       "      <td>F</td>\n",
       "      <td>15</td>\n",
       "      <td>U</td>\n",
       "      <td>LE3</td>\n",
       "      <td>T</td>\n",
       "      <td>1</td>\n",
       "      <td>1</td>\n",
       "      <td>at_home</td>\n",
       "      <td>other</td>\n",
       "      <td>...</td>\n",
       "      <td>4</td>\n",
       "      <td>3</td>\n",
       "      <td>2</td>\n",
       "      <td>2</td>\n",
       "      <td>3</td>\n",
       "      <td>3</td>\n",
       "      <td>6</td>\n",
       "      <td>12</td>\n",
       "      <td>13</td>\n",
       "      <td>12</td>\n",
       "    </tr>\n",
       "    <tr>\n",
       "      <th>3</th>\n",
       "      <td>GP</td>\n",
       "      <td>F</td>\n",
       "      <td>15</td>\n",
       "      <td>U</td>\n",
       "      <td>GT3</td>\n",
       "      <td>T</td>\n",
       "      <td>4</td>\n",
       "      <td>2</td>\n",
       "      <td>health</td>\n",
       "      <td>services</td>\n",
       "      <td>...</td>\n",
       "      <td>3</td>\n",
       "      <td>2</td>\n",
       "      <td>2</td>\n",
       "      <td>1</td>\n",
       "      <td>1</td>\n",
       "      <td>5</td>\n",
       "      <td>0</td>\n",
       "      <td>14</td>\n",
       "      <td>14</td>\n",
       "      <td>14</td>\n",
       "    </tr>\n",
       "    <tr>\n",
       "      <th>4</th>\n",
       "      <td>GP</td>\n",
       "      <td>F</td>\n",
       "      <td>16</td>\n",
       "      <td>U</td>\n",
       "      <td>GT3</td>\n",
       "      <td>T</td>\n",
       "      <td>3</td>\n",
       "      <td>3</td>\n",
       "      <td>other</td>\n",
       "      <td>other</td>\n",
       "      <td>...</td>\n",
       "      <td>4</td>\n",
       "      <td>3</td>\n",
       "      <td>2</td>\n",
       "      <td>1</td>\n",
       "      <td>2</td>\n",
       "      <td>5</td>\n",
       "      <td>0</td>\n",
       "      <td>11</td>\n",
       "      <td>13</td>\n",
       "      <td>13</td>\n",
       "    </tr>\n",
       "  </tbody>\n",
       "</table>\n",
       "<p>5 rows × 33 columns</p>\n",
       "</div>"
      ],
      "text/plain": [
       "  school sex  age address famsize Pstatus  Medu  Fedu     Mjob      Fjob  ...  \\\n",
       "0     GP   F   18       U     GT3       A     4     4  at_home   teacher  ...   \n",
       "1     GP   F   17       U     GT3       T     1     1  at_home     other  ...   \n",
       "2     GP   F   15       U     LE3       T     1     1  at_home     other  ...   \n",
       "3     GP   F   15       U     GT3       T     4     2   health  services  ...   \n",
       "4     GP   F   16       U     GT3       T     3     3    other     other  ...   \n",
       "\n",
       "  famrel freetime  goout  Dalc  Walc health absences  G1  G2  G3  \n",
       "0      4        3      4     1     1      3        4   0  11  11  \n",
       "1      5        3      3     1     1      3        2   9  11  11  \n",
       "2      4        3      2     2     3      3        6  12  13  12  \n",
       "3      3        2      2     1     1      5        0  14  14  14  \n",
       "4      4        3      2     1     2      5        0  11  13  13  \n",
       "\n",
       "[5 rows x 33 columns]"
      ]
     },
     "execution_count": 3,
     "metadata": {},
     "output_type": "execute_result"
    }
   ],
   "source": [
    "data.head()"
   ]
  },
  {
   "cell_type": "markdown",
   "metadata": {},
   "source": [
    "**Data Cleaning Step 3**: Called data.head() to verify that the csv file was read correctly into a Dataframe. <a name=\"step1\"></a>"
   ]
  },
  {
   "cell_type": "code",
   "execution_count": 4,
   "metadata": {},
   "outputs": [
    {
     "name": "stdout",
     "output_type": "stream",
     "text": [
      "There are 649 rows and 33 columns\n"
     ]
    }
   ],
   "source": [
    "nRow, nCol = data.shape\n",
    "print(f'There are {nRow} rows and {nCol} columns')"
   ]
  },
  {
   "cell_type": "markdown",
   "metadata": {},
   "source": [
    "**Data Cleaning Step 4**: Printed out the number of rows and columns in our dataset to see the total number of rows and columns and to verify that it has the same number of rows and columns as the original dataset from where we extracted the data. <a name=\"step4\"></a>"
   ]
  },
  {
   "cell_type": "code",
   "execution_count": 5,
   "metadata": {},
   "outputs": [],
   "source": [
    "data.dropna(inplace=True)"
   ]
  },
  {
   "cell_type": "markdown",
   "metadata": {},
   "source": [
    "**Data Cleaning Step 5**: We dropped all NaN values in the dataset and set inplace=True so that the changes are saved to the original dataframe. <a name=\"step5\"></a>"
   ]
  },
  {
   "cell_type": "code",
   "execution_count": 6,
   "metadata": {},
   "outputs": [
    {
     "data": {
      "text/plain": [
       "0"
      ]
     },
     "execution_count": 6,
     "metadata": {},
     "output_type": "execute_result"
    }
   ],
   "source": [
    "data.isnull().sum().sum()"
   ]
  },
  {
   "cell_type": "markdown",
   "metadata": {},
   "source": [
    "There were no empty rows in this dataset!"
   ]
  },
  {
   "cell_type": "markdown",
   "metadata": {},
   "source": [
    "**Data Cleaning Step 6**: After dropping all NaN values, we checked to see the if total NaN values in the dataset is equal to zero.\n",
    "<a name=\"step6\"></a>"
   ]
  },
  {
   "cell_type": "code",
   "execution_count": 7,
   "metadata": {},
   "outputs": [],
   "source": [
    "data.rename(columns={\"higher\":\"HigherEd\", \"goout\":\"goOut\", \"Dalc\":\"M-F Alc\", \"Walc\":\"S-S Alc\",\n",
    "                     \"Medu\":\"MotherEdu\", \"Fedu\":\"FatherEdu\", \"Mjob\":\"MotherJob\", \"Fjob\": \"FatherJob\",\n",
    "                     \"G1\":\"Score1\", \"G2\":\"Score2\", \"G3\":\"Score3\"}, \n",
    "            inplace= True)"
   ]
  },
  {
   "cell_type": "markdown",
   "metadata": {},
   "source": [
    "**Data Cleaning Step 7**: We renamed the columns of the dataframe to column names that are more generally understood. The inplace=True is used once again to save changes to the original dataframe. <a name=\"step7\"></a>"
   ]
  },
  {
   "cell_type": "code",
   "execution_count": 8,
   "metadata": {},
   "outputs": [],
   "source": [
    "#Add a mean scores column\n",
    "data['MeanScore'] = (data.Score1 + data.Score2 + data.Score3)/3\n",
    "\n",
    "#Add a mean alcohol consumption column\n",
    "data['MeanAlc'] = (data['M-F Alc'] + data['S-S Alc'])/2\n",
    "\n",
    "#Add a sum of alcohol consumption column\n",
    "data['SumAlc'] = data['M-F Alc'] + data['S-S Alc']"
   ]
  },
  {
   "cell_type": "markdown",
   "metadata": {},
   "source": [
    "**Data Cleaning Step 8**: Here we created new columns within our dataset ('MeanScore', 'MeanAlc', 'SumAlc') to use for future calculations. <a name=\"step8\"></a>"
   ]
  },
  {
   "cell_type": "code",
   "execution_count": 9,
   "metadata": {},
   "outputs": [
    {
     "data": {
      "text/plain": [
       "Index(['school', 'sex', 'age', 'address', 'famsize', 'Pstatus', 'MotherEdu',\n",
       "       'FatherEdu', 'MotherJob', 'FatherJob', 'reason', 'guardian',\n",
       "       'traveltime', 'studytime', 'failures', 'schoolsup', 'famsup', 'paid',\n",
       "       'activities', 'nursery', 'HigherEd', 'internet', 'romantic', 'famrel',\n",
       "       'freetime', 'goOut', 'M-F Alc', 'S-S Alc', 'health', 'absences',\n",
       "       'Score1', 'Score2', 'Score3', 'MeanScore', 'MeanAlc', 'SumAlc'],\n",
       "      dtype='object')"
      ]
     },
     "execution_count": 9,
     "metadata": {},
     "output_type": "execute_result"
    }
   ],
   "source": [
    "data.columns"
   ]
  },
  {
   "cell_type": "markdown",
   "metadata": {},
   "source": [
    "**Data Cleaning Step 9**: Called data.columns to verify that the newly created columns have been successfully added to our dataframe. <a name=\"step9\"></a>"
   ]
  },
  {
   "cell_type": "code",
   "execution_count": 10,
   "metadata": {},
   "outputs": [
    {
     "data": {
      "text/plain": [
       "school         object\n",
       "sex            object\n",
       "age             int64\n",
       "address        object\n",
       "famsize        object\n",
       "Pstatus        object\n",
       "MotherEdu       int64\n",
       "FatherEdu       int64\n",
       "MotherJob      object\n",
       "FatherJob      object\n",
       "reason         object\n",
       "guardian       object\n",
       "traveltime      int64\n",
       "studytime       int64\n",
       "failures        int64\n",
       "schoolsup      object\n",
       "famsup         object\n",
       "paid           object\n",
       "activities     object\n",
       "nursery        object\n",
       "HigherEd       object\n",
       "internet       object\n",
       "romantic       object\n",
       "famrel          int64\n",
       "freetime        int64\n",
       "goOut           int64\n",
       "M-F Alc         int64\n",
       "S-S Alc         int64\n",
       "health          int64\n",
       "absences        int64\n",
       "Score1          int64\n",
       "Score2          int64\n",
       "Score3          int64\n",
       "MeanScore     float64\n",
       "MeanAlc       float64\n",
       "SumAlc          int64\n",
       "dtype: object"
      ]
     },
     "execution_count": 10,
     "metadata": {},
     "output_type": "execute_result"
    }
   ],
   "source": [
    "data.dtypes"
   ]
  },
  {
   "cell_type": "markdown",
   "metadata": {},
   "source": [
    "**Data Cleaning Step 10**: Called data.dtypes to check that all columns' dtypes match what they are supposed to be. <a name=\"step10\"></a>"
   ]
  },
  {
   "cell_type": "markdown",
   "metadata": {},
   "source": [
    "## Question 1: Is there a relationship between lower test scores/more failures and higher alcohol consumption? <a name=\"Q1\"></a>\n",
    "___"
   ]
  },
  {
   "cell_type": "markdown",
   "metadata": {},
   "source": [
    "Our first steps in exploring the data was to get a general understanding between two quantifiable measures of student wellbeing and alcohol consumption: average alcohol consumed and grades. Using a simple line plot, with x being failures and y being average alcohol consumption we can visualize the connection— if any— between alcohol consumption and in-school performance.  "
   ]
  },
  {
   "cell_type": "code",
   "execution_count": 11,
   "metadata": {},
   "outputs": [
    {
     "name": "stdout",
     "output_type": "stream",
     "text": [
      "The correlation between failures and Mean Alcohol consumption is 0.102.\n"
     ]
    },
    {
     "data": {
      "image/png": "[encoded data removed]",
      "text/plain": [
       "<Figure size 432x288 with 1 Axes>"
      ]
     },
     "metadata": {
      "needs_background": "light"
     },
     "output_type": "display_data"
    }
   ],
   "source": [
    "sns.lineplot(x= data['failures'], y=data['MeanAlc'], color = 'red', alpha=0.5);\n",
    "plt.title('Failures vs Mean Alcohol Consumption')\n",
    "plt.xlabel('Failures')\n",
    "plt.ylabel('Mean Alcohol Consumption')\n",
    "print(f'The correlation between failures and Mean Alcohol consumption is {data.failures.corr(data.MeanAlc):.3}.')"
   ]
  },
  {
   "cell_type": "markdown",
   "metadata": {},
   "source": [
    "In the figure above, we have plotted student failures in relation to average levels of alcohol consumption for students. The data from the 'failures' column is plotted on the x axis. The mean alcohol consumption ('MeanAlc' column), which was previously calculated by averaging out the weekday alcohol consumption (column 'M-F_Alc') and weekend alcohol consumption (column 'S-S_Alc'), is plotted on the y axis. From the plot, we can see there is a weak positive correlation between failures and average alcohol consumption. There is a generally increasing trend in the average alcohol consumption as the number of past class failures increases. In order to solidify our assumptions about the plot, we calculated the Pearson correlation between the two variables (0.102; a weak positive correlation). \n",
    "\n",
    "The red shading around the line plot represents standard error. This red shading may be considered a potential limitation as it may be hard for some readers to interpret. "
   ]
  },
  {
   "cell_type": "code",
   "execution_count": 12,
   "metadata": {},
   "outputs": [
    {
     "name": "stdout",
     "output_type": "stream",
     "text": [
      "The correlation between Mean Test Scores and Mean Alcohol consumption is -0.208.\n"
     ]
    },
    {
     "data": {
      "image/png": "[encoded data removed]",
      "text/plain": [
       "<Figure size 432x288 with 1 Axes>"
      ]
     },
     "metadata": {
      "needs_background": "light"
     },
     "output_type": "display_data"
    }
   ],
   "source": [
    "sns.lineplot(x= data['MeanScore'], y=data['MeanAlc']);\n",
    "plt.title('Mean Scores vs. Mean Alcohol Consumption')\n",
    "plt.xlabel('Mean Score')\n",
    "plt.ylabel('Mean Alcohol Consumption')\n",
    "\n",
    "print(f'The correlation between Mean Test Scores and Mean Alcohol consumption is {data.MeanScore.corr(data.MeanAlc):.3}.')"
   ]
  },
  {
   "cell_type": "markdown",
   "metadata": {},
   "source": [
    "The above figure plots the mean alcohol consumption as a function of the mean score students recieve on exams. The 'MeanScore' column was calculated by finding the average score from the 'G1', 'G2', and 'G3' columns, which tell us exam scores in the first, second, and third school periods. From the plot we can see that there is a weak negative correlation between Mean Score and Mean Alcohol Consumption. \n",
    "\n",
    "The plot reveals an overall decrease in Mean Alcohol Consumption as the Mean Scores increase— that is, the less alcohol a student consumes, the better their score will be. \n",
    "\n",
    "A potential limitation is that readers may have trouble interpreting the high amount of variation in the first half of the graph as well as the blue shading around it. The high variation in the first half of the graph may account for the many other reasons a student may have done poorly on an exam that is not related to their alcohol consumption (i.e. mental illness, lack of resources, cheating, etc.). The blue shading around the lineplot represents the standard error. In order to solidify our assumptions about the plot, we calculated the Pearson correlation between the two variables to get -0.208; a weak negative correlation."
   ]
  },
  {
   "cell_type": "markdown",
   "metadata": {},
   "source": [
    "This analysis shows us that there is some form of a linear relationship between alcohol consumption, exam scores, and failed courses, which means we are able to use linear regression to predict how these two variables influence our dependent variable, alcohol consumption."
   ]
  },
  {
   "cell_type": "markdown",
   "metadata": {},
   "source": [
    "### Linear Regression <a name = \"linRegQ1\"></a>\n",
    "___"
   ]
  },
  {
   "cell_type": "code",
   "execution_count": 13,
   "metadata": {},
   "outputs": [
    {
     "name": "stdout",
     "output_type": "stream",
     "text": [
      "The regression coefficient for failures s: 0.036\n",
      "The regression coefficient for MeanScore s: -0.07\n",
      "Lastly, the intercept is 2.7\n"
     ]
    }
   ],
   "source": [
    "# regress MeanAlc on MeanScore and failures\n",
    "dataQ1 = data[['failures', 'MeanScore']]\n",
    "\n",
    "mlr1 = LinearRegression()\n",
    "mlr1.fit(dataQ1, data['MeanAlc'])\n",
    "\n",
    "for i in range(len(dataQ1.columns)):\n",
    "    print(f'The regression coefficient for {dataQ1.columns[i]} s: {mlr1.coef_[i]:.2}')\n",
    "print(f'Lastly, the intercept is {mlr1.intercept_:.3}')"
   ]
  },
  {
   "cell_type": "markdown",
   "metadata": {},
   "source": [
    "We used multiple linear regression to calculate the regression coefficients for both 'failures' and 'MeanScore' with relation to 'MeanAlc' (mean alcohol consumption). We used a for-loop to calculate the regression coefficients. The way we interpret the regression coefficients is shown below:\n",
    "\n",
    "- Failures: For every one unit increase in failures, we can expect the mean alcohol consumption to increase by 0.036 while holding mean test scores constant.\n",
    "\n",
    "- MeanScore: For every one unit increase in mean test score, we can expect the mean alcohol consumption to decrease by 0.0699 while holding failures constant.\n",
    "\n",
    "The intercept can be interpreted as:\n",
    "\n",
    "- Intercept: When the mean score of tests is zero and failures are zero, the expected mean alcohol consumption is 2.696.\n",
    "\n",
    "Some potential limitations for calculating the regression coefficients is that we are only considering linear relationships and that there may be other variables other than 'failures' and 'MeanScore' which have not been studied, yet may have influenced the response variable. "
   ]
  },
  {
   "cell_type": "markdown",
   "metadata": {},
   "source": [
    "To see what this relationship would look like if test scores and alcohol consumption were not related, we can use permutation to shuffle our data:"
   ]
  },
  {
   "cell_type": "markdown",
   "metadata": {},
   "source": [
    "### Permute "
   ]
  },
  {
   "cell_type": "code",
   "execution_count": 14,
   "metadata": {},
   "outputs": [],
   "source": [
    "def permute(input_array):\n",
    "    permuted = input_array.copy().values \n",
    "    np.random.shuffle(permuted)\n",
    "    return pd.Series(permuted)\n",
    "\n",
    "permutedY = permute(data['MeanAlc'])\n",
    "mlr0 = LinearRegression().fit(dataQ1, permutedY)"
   ]
  },
  {
   "cell_type": "markdown",
   "metadata": {},
   "source": [
    "In the cell above, we created the permute function to rearrange the y data points randomly to where there is no relationship to x anymore. If we permute our y data and fit a linear model to it, we will obtain the results of a trial under the null hypothesis, or where y and x have no relationship. "
   ]
  },
  {
   "cell_type": "code",
   "execution_count": 15,
   "metadata": {},
   "outputs": [
    {
     "data": {
      "image/png": "[encoded data removed]",
      "text/plain": [
       "<Figure size 864x432 with 2 Axes>"
      ]
     },
     "metadata": {
      "needs_background": "light"
     },
     "output_type": "display_data"
    }
   ],
   "source": [
    "# plotting ONE instance of permuted data\n",
    "fig, (ax1, ax2) = plt.subplots(nrows=1, ncols=2, figsize=(12,6), sharey=True)\n",
    "sns.lineplot(x = data['MeanScore'], y = data['MeanAlc'], ax=ax1)\n",
    "sns.lineplot(x = data['MeanScore'], y = mlr1.predict(dataQ1), ax=ax1);\n",
    "ax1.set_title('True data')\n",
    "sns.lineplot(x = data['MeanScore'], y= permutedY, ax=ax2)\n",
    "sns.lineplot(x = data['MeanScore'], y = mlr0.predict(dataQ1), ax=ax2)\n",
    "ax2.set_title('Permuted data');"
   ]
  },
  {
   "cell_type": "code",
   "execution_count": 16,
   "metadata": {},
   "outputs": [
    {
     "name": "stdout",
     "output_type": "stream",
     "text": [
      "Fraction of permuted slopes of a greater magnitude than observed slope: 0.0\n",
      "Simulated p-value: 0.0\n"
     ]
    }
   ],
   "source": [
    "# what fraction of permuted (null hypothesis) slopes are greater than our observed slope?\n",
    "steeper_slopes = 0\n",
    "n_permutations = 500\n",
    "permuted_slopes = np.zeros(n_permutations)\n",
    "\n",
    "for i in range(n_permutations):\n",
    "    permuted_model = LinearRegression().fit(data[['failures','MeanScore']], permute((data['MeanAlc'])))\n",
    "    \n",
    "    permuted_slopes[i] = mlr0.coef_[1]\n",
    "    \n",
    "    if np.abs(mlr0.coef_[1]) > np.abs(mlr1.coef_[1]):\n",
    "        steeper_slopes += 1\n",
    "    \n",
    "print(f'Fraction of permuted slopes of a greater magnitude than observed slope: {steeper_slopes / n_permutations}')\n",
    "\n",
    "print('Simulated p-value:', steeper_slopes / n_permutations)"
   ]
  },
  {
   "cell_type": "markdown",
   "metadata": {},
   "source": [
    "In the cell above, we used a for-loop to obtain 500 different permutations of our y data and used each permuted data to calculate regression coefficients. Then, in order to obtain the fraction of permuted (null hypothesis) slopes that are greater than our observed slope we used an if statement to see if the absolute value of the regression coefficient calculated from the permuted data is greater than the absolute value of the regression coefficient calculated from the original data. If it was greater, then we added 1 to the steeper_slopes variable. After running the code, we see that there are no permuted slopes of a greater magnitude than the observed slope. **Potential Limitations?**  "
   ]
  },
  {
   "cell_type": "markdown",
   "metadata": {},
   "source": [
    "Our analyses up until now have been focused primarily on quantifiable measures of students' academic achievement, in which we can see that there is a relationship between our academic variables and alcohol consumption. What other factors might influence how much a student drinks?"
   ]
  },
  {
   "cell_type": "markdown",
   "metadata": {},
   "source": [
    "## Question 2: Can parental status have an impact on their high school aged child's  consumption? <a name = \"Q2\"></a>\n",
    "____"
   ]
  },
  {
   "cell_type": "markdown",
   "metadata": {},
   "source": [
    "We are trying to understand the role parents have on their childrens' alcohol consumption. Does it matter what job a parent has? Would a student with doctor-parents drink less than one without? First, to get a general understanding of our students' parents, we made a bar graph of the students based on their mother and fathers' jobs. "
   ]
  },
  {
   "cell_type": "code",
   "execution_count": 17,
   "metadata": {},
   "outputs": [
    {
     "data": {
      "image/png": "[encoded data removed]",
      "text/plain": [
       "<Figure size 720x360 with 2 Axes>"
      ]
     },
     "metadata": {
      "needs_background": "light"
     },
     "output_type": "display_data"
    }
   ],
   "source": [
    "fig, (ax1, ax2) = plt.subplots(nrows=1, ncols=2, figsize=(10,5), sharey=True)\n",
    "sns.countplot(x = data.MotherJob.sort_values(), ax=ax1)\n",
    "ax1.set_title('Mother Job Type')\n",
    "sns.countplot(x = data.FatherJob.sort_values(), ax=ax2)\n",
    "ax2.set_title('Father Job Type');"
   ]
  },
  {
   "cell_type": "markdown",
   "metadata": {},
   "source": [
    "The above bar graphs organize students' parents based on their job, which has been organized into 5 categories: 'at_home', 'health', 'other', 'service', or 'teacher'. There is one graph for mothers, and another for fathers. Overall, we see that the majority of both mothers and fathers have careers in the 'other' category, there are more mothers who are in the 'at_home' category than fathers, more mothers are teachers, and more mothers are in the health sector. There are more fathers in the 'service' sector than there are mothers. "
   ]
  },
  {
   "cell_type": "code",
   "execution_count": 18,
   "metadata": {},
   "outputs": [],
   "source": [
    "#Turn categorical variables (Pstatus, famrel, Mjob, Fjob) into dummy variables\n",
    "data['Pstatus'] = pd.get_dummies(data['Pstatus'],drop_first=True)\n",
    "data['famrel'] = pd.get_dummies(data['famsup'],drop_first=True)\n",
    "\n",
    "mjob = pd.get_dummies(data['MotherJob'], prefix = 'M', drop_first=True)\n",
    "fjob = pd.get_dummies(data['FatherJob'], prefix = 'F', drop_first=True)"
   ]
  },
  {
   "cell_type": "markdown",
   "metadata": {},
   "source": [
    "Above we are using the pd.get_dummies() function on the categorical variables in our regression in order to obtain binary/indicator variables. This way it will be easier to use this data to compute statistics. Below, we combine the different matrices and take a look at our design matrix."
   ]
  },
  {
   "cell_type": "code",
   "execution_count": 19,
   "metadata": {},
   "outputs": [
    {
     "data": {
      "text/html": [
       "<div>\n",
       "<style scoped>\n",
       "    .dataframe tbody tr th:only-of-type {\n",
       "        vertical-align: middle;\n",
       "    }\n",
       "\n",
       "    .dataframe tbody tr th {\n",
       "        vertical-align: top;\n",
       "    }\n",
       "\n",
       "    .dataframe thead th {\n",
       "        text-align: right;\n",
       "    }\n",
       "</style>\n",
       "<table border=\"1\" class=\"dataframe\">\n",
       "  <thead>\n",
       "    <tr style=\"text-align: right;\">\n",
       "      <th></th>\n",
       "      <th>M_health</th>\n",
       "      <th>M_other</th>\n",
       "      <th>M_services</th>\n",
       "      <th>M_teacher</th>\n",
       "      <th>F_health</th>\n",
       "      <th>F_other</th>\n",
       "      <th>F_services</th>\n",
       "      <th>F_teacher</th>\n",
       "      <th>Pstatus</th>\n",
       "      <th>famrel</th>\n",
       "    </tr>\n",
       "  </thead>\n",
       "  <tbody>\n",
       "    <tr>\n",
       "      <th>0</th>\n",
       "      <td>0</td>\n",
       "      <td>0</td>\n",
       "      <td>0</td>\n",
       "      <td>0</td>\n",
       "      <td>0</td>\n",
       "      <td>0</td>\n",
       "      <td>0</td>\n",
       "      <td>1</td>\n",
       "      <td>0</td>\n",
       "      <td>0</td>\n",
       "    </tr>\n",
       "    <tr>\n",
       "      <th>1</th>\n",
       "      <td>0</td>\n",
       "      <td>0</td>\n",
       "      <td>0</td>\n",
       "      <td>0</td>\n",
       "      <td>0</td>\n",
       "      <td>1</td>\n",
       "      <td>0</td>\n",
       "      <td>0</td>\n",
       "      <td>1</td>\n",
       "      <td>1</td>\n",
       "    </tr>\n",
       "    <tr>\n",
       "      <th>2</th>\n",
       "      <td>0</td>\n",
       "      <td>0</td>\n",
       "      <td>0</td>\n",
       "      <td>0</td>\n",
       "      <td>0</td>\n",
       "      <td>1</td>\n",
       "      <td>0</td>\n",
       "      <td>0</td>\n",
       "      <td>1</td>\n",
       "      <td>0</td>\n",
       "    </tr>\n",
       "    <tr>\n",
       "      <th>3</th>\n",
       "      <td>1</td>\n",
       "      <td>0</td>\n",
       "      <td>0</td>\n",
       "      <td>0</td>\n",
       "      <td>0</td>\n",
       "      <td>0</td>\n",
       "      <td>1</td>\n",
       "      <td>0</td>\n",
       "      <td>1</td>\n",
       "      <td>1</td>\n",
       "    </tr>\n",
       "    <tr>\n",
       "      <th>4</th>\n",
       "      <td>0</td>\n",
       "      <td>1</td>\n",
       "      <td>0</td>\n",
       "      <td>0</td>\n",
       "      <td>0</td>\n",
       "      <td>1</td>\n",
       "      <td>0</td>\n",
       "      <td>0</td>\n",
       "      <td>1</td>\n",
       "      <td>1</td>\n",
       "    </tr>\n",
       "  </tbody>\n",
       "</table>\n",
       "</div>"
      ],
      "text/plain": [
       "   M_health  M_other  M_services  M_teacher  F_health  F_other  F_services  \\\n",
       "0         0        0           0          0         0        0           0   \n",
       "1         0        0           0          0         0        1           0   \n",
       "2         0        0           0          0         0        1           0   \n",
       "3         1        0           0          0         0        0           1   \n",
       "4         0        1           0          0         0        1           0   \n",
       "\n",
       "   F_teacher  Pstatus  famrel  \n",
       "0          1        0       0  \n",
       "1          0        1       1  \n",
       "2          0        1       0  \n",
       "3          0        1       1  \n",
       "4          0        1       1  "
      ]
     },
     "execution_count": 19,
     "metadata": {},
     "output_type": "execute_result"
    }
   ],
   "source": [
    "X = pd.concat([mjob,fjob, data[['Pstatus','famrel']]],axis=1)\n",
    "\n",
    "X.head()"
   ]
  },
  {
   "cell_type": "code",
   "execution_count": 20,
   "metadata": {},
   "outputs": [
    {
     "name": "stdout",
     "output_type": "stream",
     "text": [
      "M_health: -0.058\n",
      "M_other: -0.038\n",
      "M_services: 0.12\n",
      "M_teacher: 0.13\n",
      "F_health: 0.14\n",
      "F_other: 0.16\n",
      "F_services: 0.32\n",
      "F_teacher: -0.13\n",
      "Pstatus: 0.17\n",
      "famrel: -0.11\n",
      "Lastly, the intercept is 1.61\n"
     ]
    }
   ],
   "source": [
    "#Regress these variables on MeanAlc\n",
    "\n",
    "mlr1 = LinearRegression()\n",
    "mlr1.fit(X, data['MeanAlc'])\n",
    "\n",
    "for i in range(len(X.columns)):\n",
    "    print(f'{X.columns[i]}: {mlr1.coef_[i]:.2}')\n",
    "print(f'Lastly, the intercept is {mlr1.intercept_:.3}')"
   ]
  },
  {
   "cell_type": "markdown",
   "metadata": {},
   "source": [
    "**Kendra pls say this in nonstats terms** In the cell block above, we used multiple linear regression to calculate the regression coefficients for all features (columns) in the X dataframe with relation to 'MeanAlc' (mean alcohol consumption). The way in which we interpret the regression coefficients is shown below:\n",
    "\n",
    "- The expected difference in mean alcohol consumption between a student with a stay-at-home mother and a student with a  mother as a teacher increases by 0.13 while keeping other features constant.\n",
    "\n",
    "- The expected difference in mean alcohol consumption between a student with a stay-at-home father and a student with a father as a civil service member (administration or police) increases by 0.32 while keeping other features constant.\n",
    "\n",
    "- The expected difference in mean alcohol consumption between a student with separated parents and a student with parents who live together increases by 0.17 while keeping other features constant. (Which we did not expect, we assumed the MeanAlc would decrease).\n",
    "\n",
    "- The expected difference in mean alcohol consumption decreases by 0.11 as famrel-- quality of family relationships-- increases by 1 increment (from very bad to excellent) while keeping other features constant.\n",
    "\n",
    "Some potential limitations for calculating the regression coefficients is that we are only considering linear relationships and that there may be other variables which have not been studied, yet may have influenced the response variable. "
   ]
  },
  {
   "cell_type": "markdown",
   "metadata": {},
   "source": [
    "### Question 2.1: Would a high schooler with parents who both work in healthcare drink less? <a name = \"Q2.1\"></a>\n",
    "____"
   ]
  },
  {
   "cell_type": "markdown",
   "metadata": {},
   "source": [
    "After analyzing how the general student population's drinking habits are influenced by their parents' careers, we were particularly curious if the children of healthcare professionals were influenced to drink less:"
   ]
  },
  {
   "cell_type": "markdown",
   "metadata": {},
   "source": [
    "### T-test <a name = \"ttest\"></a>"
   ]
  },
  {
   "cell_type": "code",
   "execution_count": 21,
   "metadata": {},
   "outputs": [
    {
     "name": "stdout",
     "output_type": "stream",
     "text": [
      "The tstat is -1.645 and the pval is 0.137.\n"
     ]
    }
   ],
   "source": [
    "health = data[(data.MotherJob == 'health') & (data.FatherJob == 'health')].MeanAlc\n",
    "non_health = data[(data.MotherJob != 'health') & (data.FatherJob != 'health')].MeanAlc\n",
    "\n",
    "tstatH, pvalH = stats.ttest_ind(a=health, b=non_health, equal_var=False)[:]\n",
    "\n",
    "print(f'The tstat is {round(tstatH, 3)} and the pval is {round(pvalH,3)}.')"
   ]
  },
  {
   "cell_type": "markdown",
   "metadata": {},
   "source": [
    "In the cell block above, we stored the 'MeanAlc' values for students whose parents are both in the health-care field in the 'health' variable, and the stored the 'MeanAlc' values for students whose parents are not in the health_care field in the variable 'non_health'. We did this in order to conduct a t-test between the mean alcohol consumption for students with parents in the healthcare field and the mean alcohol consumption for those with parents not in the healthcare field. This will reveal how significant the differences between the groups are. After conducting this test, we recieved a p-value of 0.137 which is greater than our assumed alpha of 0.05. Using the p-value, we conclude that we do not have enough evidence to suggest that the students that have parents with jobs in the health-care field drink significantly less than other students. One of the asumptions of a t-test is that the data must be randomly sampled and that the sample populations must have the same variance. In this data, we do not know if the two sample populations vary the same and we do not know if the subjects were randomly selected. These limitations may make our t-test unreliable."
   ]
  },
  {
   "cell_type": "markdown",
   "metadata": {},
   "source": [
    "## Question 3: Do students with a greater number of absences have a higher alcohol consumption? <a name = \"Q3\"></a>\n",
    "___"
   ]
  },
  {
   "cell_type": "code",
   "execution_count": 22,
   "metadata": {},
   "outputs": [
    {
     "data": {
      "image/png": "[encoded data removed]",
      "text/plain": [
       "<Figure size 432x288 with 1 Axes>"
      ]
     },
     "metadata": {
      "needs_background": "light"
     },
     "output_type": "display_data"
    }
   ],
   "source": [
    "plt.bar(x = [\"Absences <= 3\", \"Absences >= 10\"], \n",
    "        height = [data[data.absences <= 3].SumAlc.mean(),   data[data.absences >= 10].SumAlc.mean()],\n",
    "        color = ['lightblue', 'lightgreen'], animated= True)\n",
    "plt.title(\"Alcohol Consumption of Student Absences (Extremities)\")\n",
    "plt.xlabel(\"Absence Counts\")\n",
    "plt.ylabel(\"SumAlc Consumption Counts\")\n",
    "plt.text(x = -0.05, y = 2, s = '3.58')\n",
    "plt.text(x = .95, y = 2.5, s = '4.6');"
   ]
  },
  {
   "cell_type": "markdown",
   "metadata": {},
   "source": [
    "In the cell above, we calculate the mean of the sum of alcohol consumption for students with absences less than or equal to three and did the same for students with absences greater than or equal to ten. We then graphed the two means in bar chart above. From this we can conclude that students with absences greater than or equal to ten tend to have a higher average of alcohol consumption (4.6) compared to students with absences less than or equal to three (3.58). We do not see any potential limitations in this portion of our answer."
   ]
  },
  {
   "cell_type": "code",
   "execution_count": 23,
   "metadata": {},
   "outputs": [
    {
     "name": "stdout",
     "output_type": "stream",
     "text": [
      "The 95% confidence interval is: [0.044 0.113]\n"
     ]
    }
   ],
   "source": [
    "n_bootstrap = 500\n",
    "bootstrap_slopes = np.zeros(n_bootstrap)\n",
    "\n",
    "for i in range(n_bootstrap):\n",
    "    resampled_data = data.sample(n=len(data), replace=True)\n",
    "    resampled_model = LinearRegression().fit(resampled_data[[\"absences\"]], resampled_data[\"SumAlc\"])\n",
    "    bootstrap_slopes[i] = resampled_model.coef_[0]\n",
    "    \n",
    "print(f'The 95% confidence interval is: {np.round(np.quantile(bootstrap_slopes, q=[0.025, 0.975]), 3)}')"
   ]
  },
  {
   "cell_type": "markdown",
   "metadata": {},
   "source": [
    "The bootstrap method tells us that *if* there is a relationship between absences and alcohol consumption, that we are 95% confident that the true slope would fall between the interval of 0.042 and 0.118.\n",
    "\n",
    "\n",
    "Now we want to see the relationship between students' alcohol consumption with low, allowable absences versus students with illegal truancy levels of absences:"
   ]
  },
  {
   "cell_type": "code",
   "execution_count": 24,
   "metadata": {},
   "outputs": [
    {
     "name": "stdout",
     "output_type": "stream",
     "text": [
      "The t-statistic is -3.55 and the p-value is 0.0006.\n"
     ]
    }
   ],
   "source": [
    "under3 = data[data.absences <= 3]\n",
    "over3 = data[data.absences >= 10]\n",
    "\n",
    "tstat, pval = stats.ttest_ind(a=under3.SumAlc, b=over3.SumAlc, equal_var=False)[:]\n",
    "\n",
    "print(f'The t-statistic is {round(tstat, 2)} and the p-value is {round(pval,4)}.')\n",
    "\n",
    "#Large relationship found with t-test method."
   ]
  },
  {
   "cell_type": "markdown",
   "metadata": {},
   "source": [
    "After conducting a test between alcohol consumption for students with absences greater than or equal to ten and students with absences less than or equal to three, we recieved a p-value of 0.0006 which is less than our assumed alpha of 0.05. Therefore we can conclude that these results did not occur by chance and that there is evidence to suggest that students with more absences drink (on average) more than those who have fewer absences.\n",
    "\n",
    "Lets predict how much alcohol should be consumed by a student with 2 absences and for a student with 30 absences and compare them to their actual consumption:\n",
    "\n",
    "### Predicting with Linear Regression <a name = \"absencesLinReg\"></a>"
   ]
  },
  {
   "cell_type": "code",
   "execution_count": 25,
   "metadata": {},
   "outputs": [
    {
     "name": "stdout",
     "output_type": "stream",
     "text": [
      "The predicted MeanAlc of a student with 2 absences: 3.65\n",
      "The actual MeanAlc of a student with 2 absences: 3.66\n",
      "\n",
      "\n",
      "The predicted MeanAlc of a student with 30 absences: 5.83\n",
      "The actual MeanAlc of a student with 30 absences: 5.0\n"
     ]
    }
   ],
   "source": [
    "lr = LinearRegression()\n",
    "lr.fit(data[['absences']], data['SumAlc'])\n",
    "\n",
    "prob2 = lr.predict([[2]])\n",
    "print(f'The predicted MeanAlc of a student with 2 absences: {prob2[0]:.3}')\n",
    "print(f'The actual MeanAlc of a student with 2 absences: {data[data.absences == 2].SumAlc.mean():.3}')\n",
    "\n",
    "print('\\n')\n",
    "\n",
    "prob30 = lr.predict([[30]])\n",
    "print(f'The predicted MeanAlc of a student with 30 absences: {prob30[0]:.3}')\n",
    "print(f'The actual MeanAlc of a student with 30 absences: {data[data.absences == 30].SumAlc.mean():.3}')"
   ]
  },
  {
   "cell_type": "markdown",
   "metadata": {},
   "source": [
    "The value calculated by the prediction method increases as absences increase. When comparing the predicted mean alcohol consumption and the actual mean alcohol consumption, we see that this prediction model seems fairly accurate at predicting the mean alcohol consumtpion when there are more observations to average together (there are more students with 2 absences than there are with 30 absences). As the observation count decreases with higher absences, the accuracy is less precise."
   ]
  },
  {
   "cell_type": "markdown",
   "metadata": {},
   "source": [
    "## Data Description <a name = \"description\"></a>\n",
    "____"
   ]
  },
  {
   "cell_type": "markdown",
   "metadata": {},
   "source": [
    "### 3.1 <a name = \"3.1\"></a>\n",
    "__For what purpose was the dataset created?__\n",
    "\n",
    "The dataset was originally created to predict secondary school performance in the academic paper Using Data Mining to Predict Secondary School Student Performance.\n",
    "citation for paper: \n",
    "P. Cortez and A. Silva. Using Data Mining to Predict Secondary School Student Performance. In A. Brito and J. Teixeira Eds., Proceedings of 5th FUture BUsiness TEChnology Conference (FUBUTEC 2008) pp. 5-12, Porto, Portugal, April, 2008, EUROSIS, ISBN 978-9077381-39-7.\n",
    "\n",
    "__Who created the dataset (e.g., which team, research group) and on behalf of which entity (e.g., company, institution, organization)?__\n",
    "\n",
    "Paulo Cortez and Alice Silva from the Department of Information Systems at the University of Minho. \n",
    "\n",
    "__Who funded the creation of the dataset?__\n",
    "\n",
    "The paper does not include funding information, so this information is currently unknown. \n",
    "\n",
    "### 3.2 <a name = \"3.2\"></a>\n",
    "\n",
    "__What do the instances that comprise the dataset represent (e.g., documents, photos, people, countries)?__\n",
    "\n",
    "The instances represent an individual student's school, either 'GP' for Gabriel Pereira or 'MS' for Mousinho da Silveira. \n",
    "\n",
    "__How many instances are there in total (of each type, if appropriate)?__\n",
    "\n",
    "There are 649 instances in total. \n",
    "\n",
    "__Does the dataset contain all possible instances or is it a sample (not necessarily random) of instances from a larger set?__\n",
    "\n",
    "The dataset is a sample from a larger set (the larger set would be the entire schools' populations). \n",
    "\n",
    "__What data does each instance consist of?__\n",
    "\n",
    "Each instance consists of school names, either 'GP' for Gabriel Pereira or 'MS' for Mousinho da Silveira. \n",
    "\n",
    "__Is there a label or target associated with each instance?__\n",
    "\n",
    "Each instance is labelled with either 'GP' for Gabriel Pereira or 'MS' for Mousinho da Silveira — these are school names.\n",
    "\n",
    "__Is any information missing from individual instances?__\n",
    "\n",
    "No, every instance has either 'GP' or 'MS'. \n",
    "\n",
    "__Are relationships between individual instances made explicit (e.g., users’ movie ratings, social network links)?__\n",
    "\n",
    "No, relationships are not made explicit since the instances have no relationship between eachother. \n",
    "\n",
    "__Are there recommended data splits (e.g., training, development/validation, testing)?__\n",
    "\n",
    "The data set's source reccomends the data be used for prediction, business intelligence, and data mining.\n",
    "\n",
    "__Are there any errors, sources of noise, or redundancies in the dataset?__\n",
    "\n",
    "Upon initial review, there are no clear sources of noise, errors, or redundancies in the dataset, however, there may be some random errors that occurred when the data was originally being collected that can be found within the dataset.\n",
    "\n",
    "__Is the dataset self-contained, or does it link to or otherwise rely on external resources (e.g., websites, tweets, other datasets)?__\n",
    "\n",
    "The dataset is self-contained, it only relies upon data collected for the study and does not link to other external resources.\n",
    "\n",
    "__Does the dataset contain data that might be considered confidential (e.g., data that is protected by legal privilege or by doctor-patient confidentiality, data that includes the content of individuals’ non-public communications)?__ \n",
    "\n",
    "Yes. The dataset contains information on student's romantic relationships, student's relationships with their family, failures in school, health, and whether the students' parents are together or not. \n",
    "\n",
    "__Does the dataset contain data that, if viewed directly, might be offensive, insulting, threatening, or might otherwise cause anxiety?__\n",
    "\n",
    "No, the dataset does not contain data that might cause anxiety. The data does not contain any information that would enable someone to immediately identify individuals, and all of the data is presented in a neutral way. \n",
    "\n",
    "__Does the dataset relate to people?__\n",
    "\n",
    "Yes, the dataset contains information of 649 Portuguese secondary school students. \n",
    "\n",
    "__Does the dataset identify any subpopulations (e.g., by age, gender)?__\n",
    "\n",
    "Yes, the dataset identifies subpopulations based on age, gender, nursery school attendance, internet access, romantic relationship status, address (urban or rural), whether they paid for extra classes or not, and interest in higher education. \n",
    "\n",
    "__Is it possible to identify individuals (i.e., one or more natural persons), either directly or indirectly (i.e., in combination with other data) from the dataset?__\n",
    "\n",
    "Yes, it is. If you have other data on the students in the dataset, or know enough information about a specific individual, such as where they live, their age, or their parent's jobs, you could identify the individual, or at least single out individuals in the dataset that could potentially be the person you are looking for. \n",
    "\n",
    "__Does the dataset contain data that might be considered sensitive\n",
    "in any way (e.g., data that reveals racial or ethnic origins, sexual\n",
    "orientations, religious beliefs, political opinions or union memberships, or locations; financial or health data; biometric or genetic data; forms of government identification, such as social security numbers; criminal history)?__\n",
    "\n",
    "Yes‚ it contains information about students' health status and whether or not they are in a romantic relationship. \n",
    "\n",
    "### 3.3 <a name = \"3.3\"></a>\n",
    "\n",
    "__How was the data associated with each instance acquired?__\n",
    "\n",
    "The data associated with each instance was acquired through school reports, surveys, and questionnaires of students in math and portuguese language courses in two different secondary schools. \n",
    "\n",
    "__What mechanisms or procedures were used to collect the data (e.g., hardware apparatus or sensor, manual human curation, software program, software API)? How were these mechanisms or procedures validated?__\n",
    "\n",
    "Manual human curation such as school reports, surveys, and questionnaires were used to collect the data. \n",
    "\n",
    "_If the dataset is a sample from a larger set, what was the sampling strategy (e.g., deterministic, probabilistic with specific sampling probabilities)?_\n",
    "\n",
    "\n",
    "__Who was involved in the data collection process (e.g., students, crowdworkers, contractors) and how were they compensated (e.g., how much were crowdworkers paid)?__\n",
    "\n",
    "Students and school professionals were involved in the data collection process. People involved in the data collection process were volunteers, and therefore were not compensated.\n",
    "\n",
    "__Over what timeframe was the data collected?__\n",
    "\n",
    "The data was collected over the 2005 - 2006 school year.\n",
    "\n",
    "__Were any ethical review processes conducted (e.g., by an institutional review board)?__\n",
    "\n",
    "There were no review processes conducted specifically for ethics, but the surveys and questionnaires used to collect data were reviewed by school administrators and students before being used. \n",
    "\n",
    "__Does the dataset relate to people?__\n",
    "\n",
    "Yes, the dataset contains information of 649 Portuguese secondary school students. \n",
    "\n",
    "__Did you collect the data from the individuals in question directly,\n",
    "or obtain it via third parties or other sources (e.g., websites)?__\n",
    "\n",
    "We collected the data through data.world: https://data.world/data-society/student-alcohol-consumption\n",
    "\n",
    "__Were the individuals in question notified about the data collection?__\n",
    "\n",
    "Yes, students were notified of collection when given surveys. Information about the study was included in the on-paper surveys they filled out. \n",
    "\n",
    "__Did the individuals in question consent to the collection and use\n",
    "of their data?__\n",
    "\n",
    "Yes. Students consented by filling out the questionnaires in class. They voluntarily participated in the study.\n",
    "\n",
    "__If consent was obtained, were the consenting individuals provided with a mechanism to revoke their consent in the future or for certain uses?__\n",
    "\n",
    "No they were not.\n",
    "\n",
    "__Has an analysis of the potential impact of the dataset and its use on data subjects (e.g., a data protection impact analysis)been conducted?__\n",
    "\n",
    "No, there has been no analysis conducted. \n",
    "\n",
    "### 3.4 <a name = \"3.4\"></a>\n",
    "\n",
    "__Was any preprocessing/cleaning/labeling of the data done (e.g., discretization or bucketing, tokenization, part-of-speech tagging, SIFT feature extraction, removal of instances, processing of missing values)?__\n",
    "\n",
    "Yes. When the data was originally corrected, some features were discared due to lack of discriminative value. The survey was given to 788 students, but 111 answers were discarded due to lack of identification details. \n",
    "\n",
    "Our group renamed some of the columns to be easier to understand, removed some unnecessary columns, removed any NaN values, and added some columns to include sums of some features, and averages. \n",
    "\n",
    "__Was the “raw” data saved in addition to the preprocessed/cleaned/labeled data (e.g., to support unanticipated future uses)?__\n",
    "\n",
    "No. All unused \"raw\" data was discarded.\n",
    "\n",
    "__Is the software used to preprocess/clean/label the instances available?__\n",
    "\n",
    "Yes, in the original study R was used to preprocess/clean the instances available. Our group used python and jupyter notebooks to clean the instances. \n",
    "\n",
    "### 3.5 <a name = \"3.5\"></a>\n",
    "\n",
    "__Has the dataset been used for any tasks already?__\n",
    "\n",
    "Yes it has. The dataset was originally collected and curated for the study Using Data Mining to Predict Secondary School Student Performance, and is now publicly available online and has been used in a number of other open-source data science projects.\n",
    "\n",
    "__Is there a repository that links to any or all papers or systems that use the dataset?__\n",
    "\n",
    "On Kaggle, any projects that use the dataset that have been put on Kaggle are linked to it. On the UCI Machine Learning website where the data was originally posted online, the paper that created and used the original dataset is linked.\n",
    "\n",
    "__What (other) tasks could the dataset be used for?__\n",
    "\n",
    "The dataset could be used to improve decision making in the education sector. The dataset could be used to provide a better understanding of student behavior for school administrators, or to identify students that may be in need of extra academic support. \n",
    "\n",
    "__Is there anything about the composition of the dataset or the way it was collected and preprocessed/cleaned/labeled that might impact future uses?__\n",
    "\n",
    "Many of the attributes are rated on a scale of 1-5, which may influence how these values are interpreted in future uses. \n",
    "\n",
    "__Are there tasks for which the dataset should not be used?__\n",
    "\n",
    "The data set should not be used to predict the global population of secondary students' academic success; the data collected should not be extrapolated too far. "
   ]
  },
  {
   "cell_type": "markdown",
   "metadata": {},
   "source": [
    "## Data limitations <a name = \"limitations\"></a>\n",
    "___\n",
    "__Gaps in knowledge, potential harms__\n",
    "\n",
    "There are many limitations to our data set and therefore our methods of analysis. The data we are using was collected via paper surveys in two different schools in Portugal, just these conditions poke some holes in our analysis— students may have lied on surveys, making our data and analyses biased, the rating system of 1-5 which is used in many categories is vague, making the data and the conclusions we can make from it subjective to anyone who views it; a rating of \"5\" in alcohol consumption may mean something very different to two different people who consume alcohol in different amounts. Similarly, there is no information given in the original paper for which the data was collected that explains how \"Urban\" and \"Rural\" were defined. This, like the 1-5 rating system is subjective and may mean different things to different people without a clear definition. The column for weekday alcohol consumption, originally called `Dalc`, is unclear as well — we are not sure if this indicates alcohol consumption from Monday - Friday, or Sunday - Thursday. Finally, there is the issue of cultural differences. The data we are using was collected in Portugal, and this data science project is being done by three Americans. Portugal and the United States have different cultural norms surrounding teenage drinking habits, which means our interpretations of the data will inevitably be conducted with an American perception. This should be taken into account when reading our conclusions and interpretations; what we get from the Portuguese data may be very different from what a Portguese viewer would get from this data.  \n",
    "\n",
    "__Potential impact__\n",
    "\n",
    "What these limitations mean for the application of our analyses is that ultimately, our interpretations should not be extrapolated outside of a Portuguese context, nor should they be applied to students that are not in the same age range as the students in our data set (that is, you shouldn't use our analyses to conclude that you can use absences to predict a group of 21-year old Cornell students' alcohol consumption). "
   ]
  },
  {
   "cell_type": "markdown",
   "metadata": {},
   "source": [
    "## Questions for reviewers <a name = \"questions\"></a>\n",
    "____"
   ]
  },
  {
   "cell_type": "markdown",
   "metadata": {},
   "source": [
    "1. How do we create a cohesive narrative/story? Have we been able to do that so far?\n",
    "2. This draft is really long (sorry if you had to read through all of it!!!). What should we delete/make more concise to make it shorter? Is there any section thats not really necessary?"
   ]
  },
  {
   "cell_type": "markdown",
   "metadata": {},
   "source": [
    "## Conclusion <a name = \"conclusion\"></a>\n",
    "____"
   ]
  },
  {
   "cell_type": "markdown",
   "metadata": {},
   "source": [
    "Based off our analyses, we can predict alcohol consumption based off certain student traits. By using linear regression, multiple linear regression, permutation, t-tests, bootstrapping, and confidence intervals, we have successfully identified the relationships between specific students traits and alcohol consumption."
   ]
  },
  {
   "cell_type": "markdown",
   "metadata": {},
   "source": [
    "## References <a name = \"references\"></a>\n",
    "_____\n",
    "P. Cortez and A. Silva. Using Data Mining to Predict Secondary School Student Performance. In A. Brito and J. Teixeira Eds., Proceedings of 5th FUture BUsiness TEChnology Conference (FUBUTEC 2008) pp. 5-12, Porto, Portugal, April, 2008, EUROSIS, ISBN 978-9077381-39-7.\n",
    "\n",
    "Gebru, T., Morgenstern, J.H., Vecchione, B., Vaughan, J.W., Wallach, H.M., Daumé, H., & Crawford, K. (2018). Datasheets for Datasets. ArXiv, abs/1803.09010.\n",
    "\n",
    "Gonçalves IA, Carvalho AAS. Pattern of Alcohol Consumption by Young People from North Eastern Portugal. Open Med (Wars). 2017;12:494-500. Published 2017 Dec 29. doi:10.1515/med-2017-0068\n",
    "\n",
    "Centers for Disease Control and Prevention (CDC). 1991-2019 High School Youth Risk Behavior Survey Data.\n",
    "\n",
    "World Health Organization. Alcohol in the European Union - World Health Organization. 2012, https://www.euro.who.int/__data/assets/pdf_file/0003/160680/e96457.pdf. "
   ]
  },
  {
   "cell_type": "markdown",
   "metadata": {},
   "source": [
    "[Back to the top](#top)"
   ]
  }
 ],
 "metadata": {
  "kernelspec": {
   "display_name": "Python 3",
   "language": "python",
   "name": "python3"
  },
  "language_info": {
   "codemirror_mode": {
    "name": "ipython",
    "version": 3
   },
   "file_extension": ".py",
   "mimetype": "text/x-python",
   "name": "python",
   "nbconvert_exporter": "python",
   "pygments_lexer": "ipython3",
   "version": "3.7.6"
  }
 },
 "nbformat": 4,
 "nbformat_minor": 5
}
