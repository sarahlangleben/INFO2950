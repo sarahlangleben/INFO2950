{
 "cells": [
  {
   "cell_type": "markdown",
   "metadata": {},
   "source": [
    "# Phase III: Analyses and Questions for Reviewers"
   ]
  },
  {
   "cell_type": "markdown",
   "metadata": {},
   "source": [
    "## Analyses: Can We Predict a High Schooler's Alcohol Consumption?\n",
    "1. Can parental status have an impact on their high school aged child’s consumption?\n",
    "2. Would a high schooler with a parent who has a job in the health-care field drink less? \n",
    "3. Is there a relationship between lower test scores/more failures and higher alcohol consumption? \n",
    "3. Do students who study less drink significantly more than kids who study the most?\n",
    "4. Do we see a relationship between heavy alcohol consumption based on gender?\n",
    "5. Do students with a greater number of absences have a higher alcohol consumption?"
   ]
  },
  {
   "cell_type": "markdown",
   "metadata": {},
   "source": [
    "## Questions for Reviewers\n",
    "1. Are these good questions?\n",
    "2. Are these questions effectively answering the overall question of \"Can we predict alcohol consumption?\"\n",
    "3. Would predicting heavy drinking based on gender create innaccurate results? We think our data might be too noisy to do this question and have it actually show us anything."
   ]
  }
 ],
 "metadata": {
  "kernelspec": {
   "display_name": "Python 3",
   "language": "python",
   "name": "python3"
  },
  "language_info": {
   "codemirror_mode": {
    "name": "ipython",
    "version": 3
   },
   "file_extension": ".py",
   "mimetype": "text/x-python",
   "name": "python",
   "nbconvert_exporter": "python",
   "pygments_lexer": "ipython3",
   "version": "3.7.6"
  }
 },
 "nbformat": 4,
 "nbformat_minor": 4
}
